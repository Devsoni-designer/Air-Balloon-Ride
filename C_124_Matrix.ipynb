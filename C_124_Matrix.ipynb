{
  "nbformat": 4,
  "nbformat_minor": 0,
  "metadata": {
    "colab": {
      "provenance": [],
      "authorship_tag": "ABX9TyOFZ4TEDxA1/IEM3ro+HmZP",
      "include_colab_link": true
    },
    "kernelspec": {
      "name": "python3",
      "display_name": "Python 3"
    },
    "language_info": {
      "name": "python"
    }
  },
  "cells": [
    {
      "cell_type": "markdown",
      "metadata": {
        "id": "view-in-github",
        "colab_type": "text"
      },
      "source": [
        "<a href=\"https://colab.research.google.com/github/Devsoni-designer/Air-Balloon-Ride/blob/main/C_124_Matrix.ipynb\" target=\"_parent\"><img src=\"https://colab.research.google.com/assets/colab-badge.svg\" alt=\"Open In Colab\"/></a>"
      ]
    },
    {
      "cell_type": "code",
      "execution_count": 2,
      "metadata": {
        "colab": {
          "base_uri": "https://localhost:8080/"
        },
        "id": "egE5RiBwJbjX",
        "outputId": "49d72316-4918-4dc8-9870-828f8b52f425"
      },
      "outputs": [
        {
          "output_type": "stream",
          "name": "stdout",
          "text": [
            "[2, -5, 8, 0]\n",
            "[[1, -8], [12, 2]]\n"
          ]
        }
      ],
      "source": [
        "A = [2, -5, 8, 0]\n",
        "print(A)\n",
        "\n",
        "B = [[1, -8], [12, 2]]\n",
        "print(B)"
      ]
    },
    {
      "cell_type": "code",
      "source": [
        "import numpy as np\n",
        "\n",
        "arr = np.array([1, 2, 3, 4])\n",
        "print(arr)\n",
        "print(type(arr))\n"
      ],
      "metadata": {
        "colab": {
          "base_uri": "https://localhost:8080/"
        },
        "id": "HLJ8ZDiMJ8pJ",
        "outputId": "a5d35c6a-fd73-47ac-e4d7-bbb58ba748ba"
      },
      "execution_count": 3,
      "outputs": [
        {
          "output_type": "stream",
          "name": "stdout",
          "text": [
            "[1 2 3 4]\n",
            "<class 'numpy.ndarray'>\n"
          ]
        }
      ]
    },
    {
      "cell_type": "code",
      "source": [
        "arr_2d = np.array([[1,2,3], ['a', 'z', 5], [True, -10, 'v']])\n",
        "print(arr_2d)\n",
        "print(type(arr_2d))"
      ],
      "metadata": {
        "colab": {
          "base_uri": "https://localhost:8080/"
        },
        "id": "M3tSZdtNKP7M",
        "outputId": "2ddb9743-b224-47f6-a941-4b1057f2c4cc"
      },
      "execution_count": 4,
      "outputs": [
        {
          "output_type": "stream",
          "name": "stdout",
          "text": [
            "[['1' '2' '3']\n",
            " ['a' 'z' '5']\n",
            " ['True' '-10' 'v']]\n",
            "<class 'numpy.ndarray'>\n"
          ]
        }
      ]
    },
    {
      "cell_type": "code",
      "source": [
        "print(A)\n",
        "print(A[3])\n",
        "print(arr)\n",
        "print(arr[2])"
      ],
      "metadata": {
        "colab": {
          "base_uri": "https://localhost:8080/"
        },
        "id": "5ijDNqiwKphz",
        "outputId": "72ffc053-8383-4fb3-f31b-bc6da269fc28"
      },
      "execution_count": 5,
      "outputs": [
        {
          "output_type": "stream",
          "name": "stdout",
          "text": [
            "[2, -5, 8, 0]\n",
            "0\n",
            "[1 2 3 4]\n",
            "3\n"
          ]
        }
      ]
    },
    {
      "cell_type": "code",
      "source": [
        "print(arr_2d)\n",
        "print(arr_2d[1,2])\n",
        "print(arr_2d[2][1])"
      ],
      "metadata": {
        "colab": {
          "base_uri": "https://localhost:8080/"
        },
        "id": "FNe686OKKx4A",
        "outputId": "2dce36f5-d553-487f-92ee-21e2eb61481c"
      },
      "execution_count": 7,
      "outputs": [
        {
          "output_type": "stream",
          "name": "stdout",
          "text": [
            "[['1' '2' '3']\n",
            " ['a' 'z' '5']\n",
            " ['True' '-10' 'v']]\n",
            "5\n",
            "-10\n"
          ]
        }
      ]
    },
    {
      "cell_type": "code",
      "source": [
        "#Updating index no in array\n",
        "\n",
        "arr_2d[1][0] = 10\n",
        "\n",
        "arr_2d[2][0] = 5\n",
        "\n",
        "print(arr_2d)"
      ],
      "metadata": {
        "colab": {
          "base_uri": "https://localhost:8080/"
        },
        "id": "1pjylu-qLGPj",
        "outputId": "6538200f-7d73-4a6f-9728-650b9c554577"
      },
      "execution_count": 8,
      "outputs": [
        {
          "output_type": "stream",
          "name": "stdout",
          "text": [
            "[['1' '2' '3']\n",
            " ['10' 'z' '5']\n",
            " ['5' '-10' 'v']]\n"
          ]
        }
      ]
    },
    {
      "cell_type": "code",
      "source": [
        "# Mathematical Operations\n",
        "\n",
        "#Addition\n",
        "a = np.array([[1,3],\n",
        "              [5,8]])\n",
        "\n",
        "b = np.array([[-1,6],\n",
        "              [2,8]])\n",
        "\n",
        "rows = 2\n",
        "cols =2\n",
        "\n",
        "#For holding Result\n",
        "c=[[0,0],\n",
        "    [0,0]]\n",
        "\n",
        "for i in range(rows):\n",
        "  for j in range(cols):\n",
        "    c[i][j] = a[i][j] + b[i][j]\n",
        "\n",
        "print(a, '\\n')\n",
        "print(b, '\\n')\n",
        "print(c)\n"
      ],
      "metadata": {
        "colab": {
          "base_uri": "https://localhost:8080/"
        },
        "id": "6pwc1nkAL73l",
        "outputId": "1bd401a7-d0b8-4083-9add-37efba2bcb30"
      },
      "execution_count": 10,
      "outputs": [
        {
          "output_type": "stream",
          "name": "stdout",
          "text": [
            "[[1 3]\n",
            " [5 8]] \n",
            "\n",
            "[[-1  6]\n",
            " [ 2  8]] \n",
            "\n",
            "[[0, 9], [7, 16]]\n"
          ]
        }
      ]
    },
    {
      "cell_type": "code",
      "source": [
        "#Subtraction\n",
        "a = np.array([[5,8],\n",
        "               [7,-1]\n",
        "                   ])\n",
        "\n",
        "b = np.array([[9,-8],\n",
        "               [0,-7]\n",
        "                   ])\n",
        "\n",
        "rows = 2\n",
        "cols = 2\n",
        "c = [[0,0],\n",
        "      [0,0]]\n",
        "\n",
        "for i in range(rows):\n",
        "  for j in range(cols):\n",
        "    c[i][j] = a[i][j] - b[i][j]\n",
        "\n",
        "print(a, '\\n')\n",
        "print(b, '\\n')\n",
        "print(c)\n"
      ],
      "metadata": {
        "colab": {
          "base_uri": "https://localhost:8080/"
        },
        "id": "MUUJIP-GNkuL",
        "outputId": "fba28852-e5a9-41cf-abc5-98fa886833fd"
      },
      "execution_count": 11,
      "outputs": [
        {
          "output_type": "stream",
          "name": "stdout",
          "text": [
            "[[ 5  8]\n",
            " [ 7 -1]] \n",
            "\n",
            "[[ 9 -8]\n",
            " [ 0 -7]] \n",
            "\n",
            "[[-4, 16], [7, 6]]\n"
          ]
        }
      ]
    },
    {
      "cell_type": "code",
      "source": [
        "#Multiplication\n",
        "\n",
        "b = np.array([[1,-3],\n",
        "              [2,6],\n",
        "              [-3,1]])\n",
        "\n",
        "print(b, '\\n')\n",
        "\n",
        "n=5 #scalar\n",
        "mul = np.zeros([3,2])\n",
        "\n",
        "for i in range(3):\n",
        "  for j in range(2):\n",
        "    mul [i][j] = n* b[i][j]\n",
        "\n",
        "print(mul)\n"
      ],
      "metadata": {
        "colab": {
          "base_uri": "https://localhost:8080/"
        },
        "id": "_FlZ7LWWOpUq",
        "outputId": "44eb17b5-7a91-4ad1-a019-6a850fc8c6e5"
      },
      "execution_count": 12,
      "outputs": [
        {
          "output_type": "stream",
          "name": "stdout",
          "text": [
            "[[ 1 -3]\n",
            " [ 2  6]\n",
            " [-3  1]] \n",
            "\n",
            "[[  5. -15.]\n",
            " [ 10.  30.]\n",
            " [-15.   5.]]\n"
          ]
        }
      ]
    },
    {
      "cell_type": "code",
      "source": [
        "#Multiplication of array with array\n",
        "\n",
        "a = np.array([[2,4,-7],\n",
        "               [4,-6,1],\n",
        "               [1,5,-8]])\n",
        "\n",
        "b = np.array([[-2,2,-7],\n",
        "               [0,-1,1],\n",
        "               [1,3,-8]])\n",
        "\n",
        "c = np.zeros([3,2])\n",
        "print(c, '\\n')\n",
        "\n",
        "rows_a = 3\n",
        "cols_a = rows_b = 2\n",
        "cols_b = 3\n",
        "\n",
        "for i in range(3):\n",
        "  for j in range(2):\n",
        "    for k in range(3):\n",
        "\n",
        "      c[i][j] = c[i][j] + a[i][k] * b[k][j]\n",
        "\n",
        "for rows in c:\n",
        "  print(rows)\n",
        "\n"
      ],
      "metadata": {
        "colab": {
          "base_uri": "https://localhost:8080/"
        },
        "id": "R2hs8A0vPqiV",
        "outputId": "252b1933-911f-4161-d586-675dde656414"
      },
      "execution_count": 14,
      "outputs": [
        {
          "output_type": "stream",
          "name": "stdout",
          "text": [
            "[[0. 0.]\n",
            " [0. 0.]\n",
            " [0. 0.]] \n",
            "\n",
            "[-11. -21.]\n",
            "[-7. 17.]\n",
            "[-10. -27.]\n"
          ]
        }
      ]
    }
  ]
}